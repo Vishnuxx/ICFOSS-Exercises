{
  "nbformat": 4,
  "nbformat_minor": 0,
  "metadata": {
    "colab": {
      "name": "Untitled3.ipynb",
      "provenance": []
    },
    "kernelspec": {
      "name": "python3",
      "display_name": "Python 3"
    },
    "language_info": {
      "name": "python"
    }
  },
  "cells": [
    {
      "cell_type": "code",
      "execution_count": 33,
      "metadata": {
        "colab": {
          "base_uri": "https://localhost:8080/"
        },
        "id": "0QcLQf5AdHcW",
        "outputId": "4f281253-91e1-4fdb-a81e-afdb0267d4cb"
      },
      "outputs": [
        {
          "output_type": "stream",
          "name": "stdout",
          "text": [
            "[[ 1  2  3]\n",
            " [ 4  5  6]\n",
            " [ 7  8  9]\n",
            " [10 11 12]\n",
            " [13 14 15]]\n",
            "[[ 1  2  3  4  5]\n",
            " [ 6  7  8  9 10]\n",
            " [11 12 13 14 15]]\n"
          ]
        }
      ],
      "source": [
        "\n",
        "import numpy as np\n",
        "\n",
        "\n",
        "arr = np.array([1,2,3,4,5,6,7,8,9,10,11,12,13,14,15])\n",
        "\n",
        "print(arr.reshape(5 , 3))\n",
        "\n",
        "print(arr.reshape(3 , 5))\n",
        "\n"
      ]
    },
    {
      "cell_type": "code",
      "source": [
        "print(arr[3])\n",
        "print(arr[6])\n",
        "print(arr[7])"
      ],
      "metadata": {
        "colab": {
          "base_uri": "https://localhost:8080/"
        },
        "id": "E1XB1Ek5bE0U",
        "outputId": "fa18e3c3-8508-4a87-ed5f-f6d66b19c51d"
      },
      "execution_count": 3,
      "outputs": [
        {
          "output_type": "stream",
          "name": "stdout",
          "text": [
            "4\n",
            "7\n",
            "8\n"
          ]
        }
      ]
    },
    {
      "cell_type": "code",
      "source": [
        "print(arr[4 : 13])"
      ],
      "metadata": {
        "colab": {
          "base_uri": "https://localhost:8080/"
        },
        "id": "QJppLDbkbNw_",
        "outputId": "d8bf62fc-e1c3-4084-902f-aedbc8ee6be0"
      },
      "execution_count": 7,
      "outputs": [
        {
          "output_type": "stream",
          "name": "stdout",
          "text": [
            "[ 5  6  7  8  9 10 11 12 13]\n"
          ]
        }
      ]
    },
    {
      "cell_type": "code",
      "source": [
        "from numpy import random as rand\n",
        "\n",
        "rand.choice(arr ,4)"
      ],
      "metadata": {
        "colab": {
          "base_uri": "https://localhost:8080/"
        },
        "id": "CCOFHoDicE67",
        "outputId": "a48c120a-4fc8-492f-b492-41aba9bc4334"
      },
      "execution_count": 31,
      "outputs": [
        {
          "output_type": "execute_result",
          "data": {
            "text/plain": [
              "array([10, 12, 13, 15])"
            ]
          },
          "metadata": {},
          "execution_count": 31
        }
      ]
    }
  ]
}