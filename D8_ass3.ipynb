{
  "nbformat": 4,
  "nbformat_minor": 0,
  "metadata": {
    "colab": {
      "name": "D8_ass3.ipynb",
      "provenance": []
    },
    "kernelspec": {
      "name": "python3",
      "display_name": "Python 3"
    },
    "language_info": {
      "name": "python"
    }
  },
  "cells": [
    {
      "cell_type": "code",
      "execution_count": 9,
      "metadata": {
        "colab": {
          "base_uri": "https://localhost:8080/"
        },
        "id": "sHCtyjUHmK0j",
        "outputId": "4b344278-f61d-4a72-917f-ce18056a6c62"
      },
      "outputs": [
        {
          "output_type": "stream",
          "name": "stdout",
          "text": [
            "[11 12 13 14 15 16 17 18 19 20  1  2  3  4  5  6  7  8  9  0]\n",
            "[0 1 2 3 4 5 6 7 8 9]\n",
            "[20 19 18 17 16 15 14 13 12 11]\n"
          ]
        }
      ],
      "source": [
        "import numpy as np\n",
        "\n",
        "\n",
        "a1 = np.array([1,2,3,4,5,6,7,8,9,0])\n",
        "a2 = np.array([ 11 , 12 , 13 , 14 , 15 , 16 , 17 , 18 , 19 , 20])\n",
        "\n",
        "\n",
        "\n",
        "a3 = np.hstack(np.vstack(np.append(a2 , a1)))\n",
        "print(a3)\n",
        "\n",
        "\n",
        "sort_asc = np.sort(a1)\n",
        "\n",
        "print(sort_asc)\n",
        "\n",
        "sort_dec = np.sort(a2)[::-1]\n",
        "print(sort_dec)"
      ]
    }
  ]
}