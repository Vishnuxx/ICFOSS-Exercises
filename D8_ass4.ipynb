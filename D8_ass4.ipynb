{
  "nbformat": 4,
  "nbformat_minor": 0,
  "metadata": {
    "colab": {
      "name": "D8_ass4.ipynb",
      "provenance": []
    },
    "kernelspec": {
      "name": "python3",
      "display_name": "Python 3"
    },
    "language_info": {
      "name": "python"
    }
  },
  "cells": [
    {
      "cell_type": "code",
      "execution_count": 19,
      "metadata": {
        "colab": {
          "base_uri": "https://localhost:8080/"
        },
        "id": "sHCtyjUHmK0j",
        "outputId": "85835696-4201-4414-fc0b-c42bca59e8ba"
      },
      "outputs": [
        {
          "output_type": "stream",
          "name": "stdout",
          "text": [
            "[[7.30275909 3.90022922 1.92511555]\n",
            " [4.68205036 7.64274825 0.65403677]]\n"
          ]
        }
      ],
      "source": [
        "import numpy as np\n",
        "import random as r\n",
        "\n",
        "li = [[r.uniform(0,10)for i in range(3)] for i in range(2)]\n",
        "\n",
        "arr = np.array(li)\n",
        "print(arr)"
      ]
    }
  ]
}