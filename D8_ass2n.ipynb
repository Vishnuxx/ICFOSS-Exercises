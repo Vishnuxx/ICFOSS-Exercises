{
  "nbformat": 4,
  "nbformat_minor": 0,
  "metadata": {
    "colab": {
      "name": "Untitled4.ipynb",
      "provenance": []
    },
    "kernelspec": {
      "name": "python3",
      "display_name": "Python 3"
    },
    "language_info": {
      "name": "python"
    }
  },
  "cells": [
    {
      "cell_type": "code",
      "execution_count": 22,
      "metadata": {
        "colab": {
          "base_uri": "https://localhost:8080/"
        },
        "id": "sHCtyjUHmK0j",
        "outputId": "1df915cf-70ae-4bcc-b805-abf39c4c2f45"
      },
      "outputs": [
        {
          "output_type": "stream",
          "name": "stdout",
          "text": [
            "[-1  6 -1 12 -1 18 -1 24 -1 30 -1 36 -1 42 -1 48 -1 54 -1 60 -1 66 -1 72\n",
            " -1 78 -1 84 -1 90 -1 96 -1]\n"
          ]
        }
      ],
      "source": [
        "import numpy as np\n",
        "\n",
        "\n",
        " \n",
        "a = np.arange(3 , 101, 3)  \n",
        " \n",
        "a[a%2==1] = -1            \n",
        " \n",
        "print (a) \n"
      ]
    }
  ]
}