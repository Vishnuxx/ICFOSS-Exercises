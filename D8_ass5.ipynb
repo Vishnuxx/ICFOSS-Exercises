{
  "cells": [
    {
      "cell_type": "code",
      "execution_count": 56,
      "metadata": {
        "colab": {
          "base_uri": "https://localhost:8080/"
        },
        "id": "ne14UXlr8bGD",
        "outputId": "b4bddd82-b991-4a58-e81d-aa347475e9f6"
      },
      "outputs": [
        {
          "name": "stdout",
          "output_type": "stream",
          "text": [
            "number of rounds: 3\n",
            "input rock , paper or scissors: rock\n",
            "userscore = 0\n",
            "opponentscore = 1\n",
            "input rock , paper or scissors: rock\n",
            "userscore = 1\n",
            "opponentscore = 1\n",
            "input rock , paper or scissors: rock\n",
            "userscore = 2\n",
            "opponentscore = 1\n",
            "you won\n"
          ]
        }
      ],
      "source": [
        "import numpy as np\n",
        "from numpy import random\n",
        "userscore = 0 \n",
        "oppscore = 0\n",
        "\n",
        "arr = np.array([\"rock\" , \"paper\" , \"scissors\"])\n",
        "\n",
        "\n",
        "\n",
        "\n",
        "def show():\n",
        "  print(\"userscore = {}\".format(userscore))\n",
        "  print(\"opponentscore = {}\".format(oppscore))\n",
        "\n",
        "def play(input):\n",
        "  global oppscore\n",
        "  global userscore\n",
        "  opponent = random.choice(arr)\n",
        "  if input == \"paper\" and opponent == \"rock\":\n",
        "    userscore = userscore + 1\n",
        "    show()\n",
        "  elif input == \"rock\" and opponent == \"paper\":\n",
        "    userscore = userscore + 1\n",
        "    show()\n",
        "  elif input == \"scissors\" and opponent == \"rock\":\n",
        "    print(input)\n",
        "    userscore = userscore + 1\n",
        "    show()\n",
        "  elif input == opponent:\n",
        "    return\n",
        "  else:\n",
        "    oppscore = oppscore + 1\n",
        "    show()\n",
        "\n",
        "def check():\n",
        "  if(userscore > oppscore):\n",
        "    print(\"you won\")\n",
        "  else:\n",
        "    print(\"you lost\")\n",
        "\n",
        "\n",
        "\n",
        "\n",
        "rounds = int(input(\"number of rounds: \"))\n",
        "\n",
        "for i in range(rounds):\n",
        "  user = str(input(\"input rock , paper or scissors: \"))\n",
        "  play(user)\n",
        "\n",
        "check()\n",
        "\n"
      ]
    }
  ],
  "metadata": {
    "colab": {
      "name": "Untitled5.ipynb",
      "provenance": []
    },
    "kernelspec": {
      "display_name": "Python 3",
      "name": "python3"
    },
    "language_info": {
      "name": "python"
    }
  },
  "nbformat": 4,
  "nbformat_minor": 0
}
